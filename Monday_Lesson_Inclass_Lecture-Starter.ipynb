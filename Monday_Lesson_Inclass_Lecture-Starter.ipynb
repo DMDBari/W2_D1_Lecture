{
 "cells": [
  {
   "cell_type": "markdown",
   "metadata": {},
   "source": [
    "# Week 2 - Monday Lesson (variable assignment, loops, lists)"
   ]
  },
  {
   "cell_type": "markdown",
   "metadata": {},
   "source": [
    "## Tasks Today:\n",
    "\n",
    "1) Int & Float assignments <br>\n",
    " &nbsp;&nbsp;&nbsp;&nbsp; a) Assigning int <br>\n",
    " &nbsp;&nbsp;&nbsp;&nbsp; b) Assigning float <br>\n",
    " &nbsp;&nbsp;&nbsp;&nbsp; c) Performing Calculations on ints and floats <br>\n",
    " &nbsp;&nbsp;&nbsp;&nbsp;&nbsp;&nbsp;&nbsp;&nbsp; - Addition <br>\n",
    " &nbsp;&nbsp;&nbsp;&nbsp;&nbsp;&nbsp;&nbsp;&nbsp; - Subtraction <br>\n",
    " &nbsp;&nbsp;&nbsp;&nbsp;&nbsp;&nbsp;&nbsp;&nbsp; - Multiplication <br>\n",
    " &nbsp;&nbsp;&nbsp;&nbsp;&nbsp;&nbsp;&nbsp;&nbsp; - Division <br>\n",
    " &nbsp;&nbsp;&nbsp;&nbsp;&nbsp;&nbsp;&nbsp;&nbsp; - Floor Division <br>\n",
    " &nbsp;&nbsp;&nbsp;&nbsp;&nbsp;&nbsp;&nbsp;&nbsp; - Modulo <br>\n",
    " &nbsp;&nbsp;&nbsp;&nbsp;&nbsp;&nbsp;&nbsp;&nbsp; - Exponential <br>\n",
    "2) String Input-Output <br>\n",
    " &nbsp;&nbsp;&nbsp;&nbsp; a) String Assignment <br>\n",
    " &nbsp;&nbsp;&nbsp;&nbsp; b) print() <br>\n",
    " &nbsp;&nbsp;&nbsp;&nbsp; c) String Concatenation <br>\n",
    " &nbsp;&nbsp;&nbsp;&nbsp; d) Escape Characters <br>\n",
    " &nbsp;&nbsp;&nbsp;&nbsp; e) Type Conversion <br>\n",
    " &nbsp;&nbsp;&nbsp;&nbsp; f) format() <br>\n",
    " &nbsp;&nbsp;&nbsp;&nbsp; g) Old Way (python 2) <br>\n",
    "3) <b>In-Class Exercise #1</b> <br>\n",
    "4) Booleans <br>\n",
    "5) If Statements <br>\n",
    " &nbsp;&nbsp;&nbsp;&nbsp; a) syntax <br>\n",
    " &nbsp;&nbsp;&nbsp;&nbsp; b) truth tree <br>\n",
    " &nbsp;&nbsp;&nbsp;&nbsp; c) and/or <br>\n",
    " &nbsp;&nbsp;&nbsp;&nbsp; d) elif <br>\n",
    " &nbsp;&nbsp;&nbsp;&nbsp; 3) else <br>\n",
    "6) <b>In-Class Exercise #2</b> <br>\n",
    "7) Lists <br>\n",
    " &nbsp;&nbsp;&nbsp;&nbsp; a) Declaring Lists <br>\n",
    " &nbsp;&nbsp;&nbsp;&nbsp; b) Indexing a List <br>\n",
    " &nbsp;&nbsp;&nbsp;&nbsp; c) .append() <br>\n",
    " &nbsp;&nbsp;&nbsp;&nbsp; d) .insert() <br>\n",
    " &nbsp;&nbsp;&nbsp;&nbsp; e) .pop() <br>\n",
    " &nbsp;&nbsp;&nbsp;&nbsp; f) .remove() <br>\n",
    " &nbsp;&nbsp;&nbsp;&nbsp; g) del() <br>\n",
    " &nbsp;&nbsp;&nbsp;&nbsp; h) Concatenating Two Lists <br>\n",
    " &nbsp;&nbsp;&nbsp;&nbsp; i) Lists Within Lists <br>\n",
    " &nbsp;&nbsp;&nbsp;&nbsp; j) Looping Through Lists <br>\n",
    "8) For Loops <br>\n",
    " &nbsp;&nbsp;&nbsp;&nbsp; a) Using 'in' keyword <br>\n",
    " &nbsp;&nbsp;&nbsp;&nbsp; b) Continue Statement <br>\n",
    " &nbsp;&nbsp;&nbsp;&nbsp; c) Break Statement <br>\n",
    " &nbsp;&nbsp;&nbsp;&nbsp; d) Pass Statement <br>\n",
    " &nbsp;&nbsp;&nbsp;&nbsp; e) Double For Loops <br>\n",
    "9) While Loops <br>\n",
    " &nbsp;&nbsp;&nbsp;&nbsp; a) Looping 'While True' <br>\n",
    " &nbsp;&nbsp;&nbsp;&nbsp; b) While and For Loops Used Together <br>\n",
    "10) Built-In Functions <br>\n",
    " &nbsp;&nbsp;&nbsp;&nbsp; a) input() <br>\n",
    " &nbsp;&nbsp;&nbsp;&nbsp; b) range() <br>\n",
    " &nbsp;&nbsp;&nbsp;&nbsp; b) len() <br>\n",
    " &nbsp;&nbsp;&nbsp;&nbsp; c) help() <br>\n",
    " &nbsp;&nbsp;&nbsp;&nbsp; d) isinstance() <br>\n",
    "\n"
   ]
  },
  {
   "cell_type": "code",
   "execution_count": 2,
   "metadata": {
    "scrolled": true
   },
   "outputs": [
    {
     "name": "stdout",
     "output_type": "stream",
     "text": [
      "Hello World!!!\n"
     ]
    }
   ],
   "source": [
    "print(\"Hello World!!!\")"
   ]
  },
  {
   "cell_type": "markdown",
   "metadata": {},
   "source": [
    "### Int & Float Assignments"
   ]
  },
  {
   "cell_type": "markdown",
   "metadata": {},
   "source": [
    "##### Assigning int"
   ]
  },
  {
   "cell_type": "code",
   "execution_count": 3,
   "metadata": {},
   "outputs": [
    {
     "name": "stdout",
     "output_type": "stream",
     "text": [
      "5\n",
      "<class 'int'>\n"
     ]
    }
   ],
   "source": [
    "# variable_name = value\n",
    "# Python Standard Naming Convention - all lowercase - snake case - snake_case\n",
    "# hello_my_name_is_dillon\n",
    "\n",
    "my_number=5 #Assigns the value 5 to variable my_number\n",
    "\n",
    "print(my_number)\n",
    "print(type(my_number))"
   ]
  },
  {
   "cell_type": "code",
   "execution_count": 4,
   "metadata": {},
   "outputs": [
    {
     "name": "stdout",
     "output_type": "stream",
     "text": [
      "123\n",
      "<class 'int'>\n"
     ]
    }
   ],
   "source": [
    "another_number = 123\n",
    "\n",
    "print(another_number)\n",
    "print(type(another_number))"
   ]
  },
  {
   "cell_type": "markdown",
   "metadata": {},
   "source": [
    "##### Assinging float"
   ]
  },
  {
   "cell_type": "code",
   "execution_count": 5,
   "metadata": {},
   "outputs": [
    {
     "name": "stdout",
     "output_type": "stream",
     "text": [
      "5.67\n",
      "<class 'float'>\n"
     ]
    }
   ],
   "source": [
    "my_float_number = 5.67\n",
    "\n",
    "print(my_float_number)\n",
    "print(type(my_float_number))"
   ]
  },
  {
   "cell_type": "code",
   "execution_count": 6,
   "metadata": {},
   "outputs": [
    {
     "name": "stdout",
     "output_type": "stream",
     "text": [
      "6.0\n",
      "<class 'float'>\n"
     ]
    }
   ],
   "source": [
    "# The decimal (.) that is doing the heavy lifting - tells Python that is a float\n",
    "\n",
    "another_float = 6.\n",
    "\n",
    "print(another_float)\n",
    "print(type(another_float))"
   ]
  },
  {
   "cell_type": "markdown",
   "metadata": {},
   "source": [
    "#### Performing Calculations on ints and floats"
   ]
  },
  {
   "cell_type": "markdown",
   "metadata": {},
   "source": [
    "##### Addition"
   ]
  },
  {
   "cell_type": "code",
   "execution_count": 7,
   "metadata": {},
   "outputs": [
    {
     "name": "stdout",
     "output_type": "stream",
     "text": [
      "21\n",
      "<class 'int'>\n"
     ]
    }
   ],
   "source": [
    "# Use the plus operator (+)\n",
    "\n",
    "num1 = 43.\n",
    "num2 = 21\n",
    "\n",
    "# int + int = int\n",
    "# int + float = float\n",
    "# float + float = float\n",
    "\n",
    "result = num1 = num2\n",
    "print(result)\n",
    "print(type(result))"
   ]
  },
  {
   "cell_type": "code",
   "execution_count": 8,
   "metadata": {},
   "outputs": [
    {
     "name": "stdout",
     "output_type": "stream",
     "text": [
      "21\n",
      "36\n"
     ]
    }
   ],
   "source": [
    "print(result)\n",
    "\n",
    "result += 15 # result = result + 15\n",
    "\n",
    "print(result)"
   ]
  },
  {
   "cell_type": "code",
   "execution_count": 9,
   "metadata": {},
   "outputs": [
    {
     "name": "stdout",
     "output_type": "stream",
     "text": [
      "15\n"
     ]
    }
   ],
   "source": [
    "x = 10\n",
    "\n",
    "x += 5 # x = x+5\n",
    "\n",
    "print(x)"
   ]
  },
  {
   "cell_type": "markdown",
   "metadata": {},
   "source": [
    "##### Subtraction"
   ]
  },
  {
   "cell_type": "code",
   "execution_count": 10,
   "metadata": {},
   "outputs": [
    {
     "name": "stdout",
     "output_type": "stream",
     "text": [
      "0\n",
      "<class 'int'>\n",
      "-5\n"
     ]
    }
   ],
   "source": [
    "# use the minus operator (-)\n",
    "\n",
    "difference = num1 - num2\n",
    "print(difference)\n",
    "print(type(difference))\n",
    "\n",
    "# Assignment Operator (-=)\n",
    "\n",
    "difference -= 5 # difference = difference - 5\n",
    "\n",
    "print(difference)"
   ]
  },
  {
   "cell_type": "markdown",
   "metadata": {},
   "source": [
    "##### Multiplication"
   ]
  },
  {
   "cell_type": "code",
   "execution_count": 1,
   "metadata": {},
   "outputs": [
    {
     "name": "stdout",
     "output_type": "stream",
     "text": [
      "84\n",
      "<class 'int'>\n",
      "168\n"
     ]
    }
   ],
   "source": [
    "# Use the asterisk or start (*)\n",
    "\n",
    "product = 12 * 7\n",
    "\n",
    "print(product)\n",
    "print(type(product))\n",
    "\n",
    "# Assignment Operator (*=)\n",
    "\n",
    "product *= 2 # product = product * 2\n",
    "\n",
    "print(product)"
   ]
  },
  {
   "cell_type": "markdown",
   "metadata": {},
   "source": [
    "##### Division"
   ]
  },
  {
   "cell_type": "code",
   "execution_count": 11,
   "metadata": {},
   "outputs": [
    {
     "name": "stdout",
     "output_type": "stream",
     "text": [
      "10.0\n",
      "<class 'float'>\n",
      "2.5\n"
     ]
    }
   ],
   "source": [
    "# Use the forward slash (/)\n",
    "\n",
    "# ALWAYS RESULTS IN A FLOAT\n",
    "\n",
    "num3 = 50\n",
    "num4 = 5\n",
    "\n",
    "quotient = num3 / num4\n",
    "\n",
    "print(quotient)\n",
    "print(type(quotient))\n",
    "\n",
    "# Assignment Operator (/=)\n",
    "\n",
    "quotient /= 4 # quotient = quotient / 4\n",
    "\n",
    "print(quotient)"
   ]
  },
  {
   "cell_type": "markdown",
   "metadata": {},
   "source": [
    "##### Floor Division"
   ]
  },
  {
   "cell_type": "code",
   "execution_count": 12,
   "metadata": {},
   "outputs": [
    {
     "name": "stdout",
     "output_type": "stream",
     "text": [
      "3.75\n",
      "3\n",
      "1\n"
     ]
    }
   ],
   "source": [
    "# Sometime also referred to as integer division\n",
    "\n",
    "# Floor is defined as the highest integer that is less than or equal to the value\n",
    "\n",
    "result_normal = 15/4\n",
    "print(result_normal)\n",
    "\n",
    "# Use the double slash (//)\n",
    "\n",
    "result_floor = 15 //4\n",
    "print(result_floor)\n",
    "\n",
    "# Assignment Operator (//=)\n",
    "\n",
    "result_floor //= 2 # result_floor = result_floor // 2\n",
    "\n",
    "print(result_floor)"
   ]
  },
  {
   "cell_type": "markdown",
   "metadata": {},
   "source": [
    "##### Modulo"
   ]
  },
  {
   "cell_type": "code",
   "execution_count": 17,
   "metadata": {},
   "outputs": [
    {
     "name": "stdout",
     "output_type": "stream",
     "text": [
      "3\n",
      "1\n"
     ]
    }
   ],
   "source": [
    "# Use the percent operator (%)\n",
    "\n",
    "# will return the remainder of a division problem\n",
    "\n",
    "num5 = 48\n",
    "num6 = 5\n",
    "\n",
    "result_mod = num5 % num6\n",
    "print(result_mod)\n",
    "\n",
    "# Assignment Operator (%=)\n",
    "\n",
    "result_mod %= 2 # result_mod = result_mod % 2\n",
    "print(result_mod)"
   ]
  },
  {
   "cell_type": "code",
   "execution_count": 19,
   "metadata": {},
   "outputs": [
    {
     "name": "stdout",
     "output_type": "stream",
     "text": [
      "0\n"
     ]
    }
   ],
   "source": [
    "# determine if a number is even or odd\n",
    "\n",
    "# if a number is even, 2 goes into the number evenly with a remainder of 0\n",
    "# if a number is odd, 2 goes into the number with a remainder of 1\n",
    "\n",
    "some_number = 372\n",
    "\n",
    "print(some_number % 2)"
   ]
  },
  {
   "cell_type": "markdown",
   "metadata": {},
   "source": [
    "##### Exponential"
   ]
  },
  {
   "cell_type": "code",
   "execution_count": 21,
   "metadata": {},
   "outputs": [
    {
     "name": "stdout",
     "output_type": "stream",
     "text": [
      "25\n",
      "15625\n"
     ]
    }
   ],
   "source": [
    "# Use the double-asterisk (**)\n",
    "\n",
    "square = 5 ** 2\n",
    "print(square)\n",
    "\n",
    "# Assignment Operator (**=)\n",
    "\n",
    "square **= 3 # square = square ** 3\n",
    "\n",
    "print(square)"
   ]
  },
  {
   "cell_type": "markdown",
   "metadata": {},
   "source": [
    "### String Input-Output"
   ]
  },
  {
   "cell_type": "markdown",
   "metadata": {},
   "source": [
    "##### String Assignment"
   ]
  },
  {
   "cell_type": "code",
   "execution_count": 22,
   "metadata": {},
   "outputs": [
    {
     "name": "stdout",
     "output_type": "stream",
     "text": [
      "Dillon\n",
      "<class 'str'>\n"
     ]
    }
   ],
   "source": [
    "# variable_name = \"string\" - quotation marks (\"\" or '') tell python that it is a string\n",
    "\n",
    "first_name = 'Dillon'\n",
    "\n",
    "print(first_name)\n",
    "print(type(first_name))"
   ]
  },
  {
   "cell_type": "code",
   "execution_count": 23,
   "metadata": {},
   "outputs": [
    {
     "name": "stdout",
     "output_type": "stream",
     "text": [
      "Dains\n",
      "<class 'str'>\n"
     ]
    }
   ],
   "source": [
    "last_name = \"Dains\"\n",
    "\n",
    "print(last_name)\n",
    "print(type(last_name))"
   ]
  },
  {
   "cell_type": "code",
   "execution_count": 24,
   "metadata": {},
   "outputs": [
    {
     "ename": "NameError",
     "evalue": "name 'astring' is not defined",
     "output_type": "error",
     "traceback": [
      "\u001b[1;31m---------------------------------------------------------------------------\u001b[0m",
      "\u001b[1;31mNameError\u001b[0m                                 Traceback (most recent call last)",
      "Cell \u001b[1;32mIn[24], line 3\u001b[0m\n\u001b[0;32m      1\u001b[0m \u001b[38;5;66;03m# quotations marks are necessary\u001b[39;00m\n\u001b[1;32m----> 3\u001b[0m wrong \u001b[38;5;241m=\u001b[39m \u001b[43mastring\u001b[49m\n\u001b[0;32m      5\u001b[0m \u001b[38;5;66;03m#python thinks that we are setting a variable 'wrong' equal to whatever the value for the variable 'astring' is, but 'astring' does not exist\u001b[39;00m\n",
      "\u001b[1;31mNameError\u001b[0m: name 'astring' is not defined"
     ]
    }
   ],
   "source": [
    "# quotations marks are necessary\n",
    "\n",
    "wrong = astring\n",
    "\n",
    "#python thinks that we are setting a variable 'wrong' equal to whatever the value for the variable 'astring' is, but 'astring' does not exist"
   ]
  },
  {
   "cell_type": "code",
   "execution_count": 25,
   "metadata": {},
   "outputs": [
    {
     "name": "stdout",
     "output_type": "stream",
     "text": [
      "Dillon\n"
     ]
    }
   ],
   "source": [
    "me = first_name\n",
    "\n",
    "print(me)"
   ]
  },
  {
   "cell_type": "markdown",
   "metadata": {},
   "source": [
    "##### Escape Characters"
   ]
  },
  {
   "cell_type": "code",
   "execution_count": 26,
   "metadata": {},
   "outputs": [
    {
     "name": "stdout",
     "output_type": "stream",
     "text": [
      "You can't do that\n"
     ]
    }
   ],
   "source": [
    "contraction1 = \"You can't do that\"\n",
    "\n",
    "print(contraction1)"
   ]
  },
  {
   "cell_type": "code",
   "execution_count": 27,
   "metadata": {},
   "outputs": [
    {
     "ename": "SyntaxError",
     "evalue": "unterminated string literal (detected at line 1) (4118999211.py, line 1)",
     "output_type": "error",
     "traceback": [
      "\u001b[1;36m  Cell \u001b[1;32mIn[27], line 1\u001b[1;36m\u001b[0m\n\u001b[1;33m    contraction2 = ' you can't do that'\u001b[0m\n\u001b[1;37m                                      ^\u001b[0m\n\u001b[1;31mSyntaxError\u001b[0m\u001b[1;31m:\u001b[0m unterminated string literal (detected at line 1)\n"
     ]
    }
   ],
   "source": [
    "contraction2 = ' you can't do that'\n",
    "\n",
    "print(contraction2)"
   ]
  },
  {
   "cell_type": "code",
   "execution_count": 28,
   "metadata": {},
   "outputs": [
    {
     "name": "stdout",
     "output_type": "stream",
     "text": [
      "You can't do that\n"
     ]
    }
   ],
   "source": [
    "# backslash before quotation - read it literally\n",
    "contraction3 = 'You can\\'t do that'\n",
    "print(contraction3)\n"
   ]
  },
  {
   "cell_type": "code",
   "execution_count": 29,
   "metadata": {},
   "outputs": [
    {
     "name": "stdout",
     "output_type": "stream",
     "text": [
      "He said, \"How are you?\"\n"
     ]
    }
   ],
   "source": [
    "quote1 = 'He said, \"How are you?\"'\n",
    "print(quote1)"
   ]
  },
  {
   "cell_type": "code",
   "execution_count": 30,
   "metadata": {},
   "outputs": [
    {
     "name": "stdout",
     "output_type": "stream",
     "text": [
      "He said, \"How are you?\"\n"
     ]
    }
   ],
   "source": [
    "quote2 = \"He said, \\\"How are you?\\\"\"\n",
    "print(quote2)"
   ]
  },
  {
   "cell_type": "code",
   "execution_count": 33,
   "metadata": {},
   "outputs": [
    {
     "name": "stdout",
     "output_type": "stream",
     "text": [
      "Hello how are you doing today?\n"
     ]
    }
   ],
   "source": [
    "# Backlash allows us to write the string on multiple lines and still be read as one line\n",
    "long_string = 'Hello how are you \\\n",
    "doing today?'\n",
    "\n",
    "print(long_string)\n"
   ]
  },
  {
   "cell_type": "code",
   "execution_count": 34,
   "metadata": {},
   "outputs": [
    {
     "name": "stdout",
     "output_type": "stream",
     "text": [
      "Hello\n",
      "How are you?\n"
     ]
    }
   ],
   "source": [
    "# \\n - new line character\n",
    "\n",
    "multi_line = \"Hello\\nHow are you?\"\n",
    "print(multi_line)\n"
   ]
  },
  {
   "cell_type": "code",
   "execution_count": 35,
   "metadata": {},
   "outputs": [
    {
     "name": "stdout",
     "output_type": "stream",
     "text": [
      "Hello\tWorld\n"
     ]
    }
   ],
   "source": [
    "# \\t - tab character\n",
    "\n",
    "tabbed = \"Hello\\tWorld\"\n",
    "print(tabbed)\n"
   ]
  },
  {
   "cell_type": "code",
   "execution_count": 36,
   "metadata": {},
   "outputs": [
    {
     "name": "stdout",
     "output_type": "stream",
     "text": [
      "Dear Friend,\n",
      "\tI hope you are doing well.\n"
     ]
    }
   ],
   "source": [
    "letter = \"Dear Friend,\\n\\tI hope you are doing well.\"\n",
    "print(letter)"
   ]
  },
  {
   "cell_type": "markdown",
   "metadata": {},
   "source": [
    "#### Triple Quoted String"
   ]
  },
  {
   "cell_type": "code",
   "execution_count": 39,
   "metadata": {},
   "outputs": [
    {
     "name": "stdout",
     "output_type": "stream",
     "text": [
      "This is the first line\n",
      "    this is the second line\n",
      "this is the final line\n"
     ]
    }
   ],
   "source": [
    "# string that starts and ends with 3 quotations (single or double)\n",
    "# Read line spacing literally\n",
    "triple = '''This is the first line\n",
    "    this is the second line\n",
    "this is the final line'''\n",
    "\n",
    "print(triple)"
   ]
  },
  {
   "cell_type": "code",
   "execution_count": 40,
   "metadata": {},
   "outputs": [
    {
     "name": "stdout",
     "output_type": "stream",
     "text": [
      " This is another\n",
      "example\n",
      "of a triple quoted string\n",
      "<class 'str'>\n"
     ]
    }
   ],
   "source": [
    "triple_again = \"\"\" This is another\n",
    "example\n",
    "of a triple quoted string\"\"\"\n",
    "\n",
    "print(triple_again)\n",
    "print(type(triple_again))"
   ]
  },
  {
   "cell_type": "code",
   "execution_count": 43,
   "metadata": {},
   "outputs": [
    {
     "name": "stdout",
     "output_type": "stream",
     "text": [
      "Dear Friend,\\n\\tI hope you are doing well.\n"
     ]
    }
   ],
   "source": [
    "# Raw String - start with r before the quotation marks (r'') or (r\"\")\n",
    "# Read string literally - special characters are not special\n",
    "\n",
    "raw_letter = r'Dear Friend,\\n\\tI hope you are doing well.'\n",
    "print(raw_letter)"
   ]
  },
  {
   "cell_type": "code",
   "execution_count": 47,
   "metadata": {},
   "outputs": [
    {
     "name": "stdout",
     "output_type": "stream",
     "text": [
      "Dillon\\b\n"
     ]
    }
   ],
   "source": [
    "my_example = r'Dillon\\b'\n",
    "print(my_example)"
   ]
  },
  {
   "cell_type": "code",
   "execution_count": 46,
   "metadata": {},
   "outputs": [
    {
     "name": "stdout",
     "output_type": "stream",
     "text": [
      "123\n",
      "<class 'str'>\n"
     ]
    }
   ],
   "source": [
    "string_number = \"123\"\n",
    "\n",
    "print(string_number)\n",
    "print(type(string_number))"
   ]
  },
  {
   "cell_type": "markdown",
   "metadata": {},
   "source": [
    "##### String Concatenation"
   ]
  },
  {
   "cell_type": "code",
   "execution_count": 50,
   "metadata": {},
   "outputs": [
    {
     "name": "stdout",
     "output_type": "stream",
     "text": [
      "John Smith\n",
      "John Smith, Jr.\n"
     ]
    }
   ],
   "source": [
    "first = 'John'\n",
    "last = 'Smith'\n",
    "\n",
    "#plus operator (+) between two strings = return a new string with the two strings combined\n",
    "full = first + ' ' + last\n",
    "print(full)\n",
    "\n",
    "# += works for strings too\n",
    "full += ', Jr.' # full = full + ', Jr.'\n",
    "print(full)"
   ]
  },
  {
   "cell_type": "code",
   "execution_count": 51,
   "metadata": {},
   "outputs": [
    {
     "ename": "TypeError",
     "evalue": "unsupported operand type(s) for +: 'int' and 'str'",
     "output_type": "error",
     "traceback": [
      "\u001b[1;31m---------------------------------------------------------------------------\u001b[0m",
      "\u001b[1;31mTypeError\u001b[0m                                 Traceback (most recent call last)",
      "Cell \u001b[1;32mIn[51], line 4\u001b[0m\n\u001b[0;32m      1\u001b[0m num_a \u001b[38;5;241m=\u001b[39m \u001b[38;5;241m10\u001b[39m \u001b[38;5;66;03m# integer\u001b[39;00m\n\u001b[0;32m      2\u001b[0m num_b \u001b[38;5;241m=\u001b[39m \u001b[38;5;124m'\u001b[39m\u001b[38;5;124m10\u001b[39m\u001b[38;5;124m'\u001b[39m \u001b[38;5;66;03m# string\u001b[39;00m\n\u001b[1;32m----> 4\u001b[0m num_c \u001b[38;5;241m=\u001b[39m \u001b[43mnum_a\u001b[49m\u001b[43m \u001b[49m\u001b[38;5;241;43m+\u001b[39;49m\u001b[43m \u001b[49m\u001b[43mnum_b\u001b[49m\n\u001b[0;32m      5\u001b[0m \u001b[38;5;28mprint\u001b[39m(num_c)\n",
      "\u001b[1;31mTypeError\u001b[0m: unsupported operand type(s) for +: 'int' and 'str'"
     ]
    }
   ],
   "source": [
    "num_a = 10 # integer\n",
    "num_b = '10' # string\n",
    "\n",
    "num_c = num_a + num_b\n",
    "print(num_c)"
   ]
  },
  {
   "cell_type": "code",
   "execution_count": 52,
   "metadata": {},
   "outputs": [
    {
     "ename": "TypeError",
     "evalue": "can only concatenate str (not \"int\") to str",
     "output_type": "error",
     "traceback": [
      "\u001b[1;31m---------------------------------------------------------------------------\u001b[0m",
      "\u001b[1;31mTypeError\u001b[0m                                 Traceback (most recent call last)",
      "Cell \u001b[1;32mIn[52], line 4\u001b[0m\n\u001b[0;32m      1\u001b[0m num_a \u001b[38;5;241m=\u001b[39m \u001b[38;5;241m10\u001b[39m \u001b[38;5;66;03m# integer\u001b[39;00m\n\u001b[0;32m      2\u001b[0m num_b \u001b[38;5;241m=\u001b[39m \u001b[38;5;124m'\u001b[39m\u001b[38;5;124m10\u001b[39m\u001b[38;5;124m'\u001b[39m \u001b[38;5;66;03m# string\u001b[39;00m\n\u001b[1;32m----> 4\u001b[0m num_c \u001b[38;5;241m=\u001b[39m \u001b[43mnum_b\u001b[49m\u001b[43m \u001b[49m\u001b[38;5;241;43m+\u001b[39;49m\u001b[43m \u001b[49m\u001b[43mnum_a\u001b[49m\n\u001b[0;32m      5\u001b[0m \u001b[38;5;28mprint\u001b[39m(num_c)\n",
      "\u001b[1;31mTypeError\u001b[0m: can only concatenate str (not \"int\") to str"
     ]
    }
   ],
   "source": [
    "num_a = 10 # integer\n",
    "num_b = '10' # string\n",
    "\n",
    "num_c = num_b + num_a\n",
    "print(num_c)"
   ]
  },
  {
   "cell_type": "markdown",
   "metadata": {},
   "source": [
    "##### Type Conversion"
   ]
  },
  {
   "cell_type": "code",
   "execution_count": 54,
   "metadata": {
    "scrolled": true
   },
   "outputs": [
    {
     "name": "stdout",
     "output_type": "stream",
     "text": [
      "10 <class 'int'>\n",
      "10 <class 'str'>\n"
     ]
    }
   ],
   "source": [
    "print(num_a, type(num_a))\n",
    "print(num_b, type(num_b))"
   ]
  },
  {
   "cell_type": "code",
   "execution_count": 57,
   "metadata": {},
   "outputs": [
    {
     "name": "stdout",
     "output_type": "stream",
     "text": [
      "10\n",
      "<class 'int'>\n",
      "10 <class 'str'>\n"
     ]
    }
   ],
   "source": [
    "# to convert, pass the value into the built-in type function (usually the name of the class) -> will return a new object\n",
    "# str for string, int for integers, float for floats, etc.\n",
    "\n",
    "num_b_as_int = int(num_b)\n",
    "print(num_b_as_int)\n",
    "print(type(num_b_as_int))\n",
    "\n",
    "# Creates new variable and object -> original value does not change\n",
    "\n",
    "print(num_b, type(num_b))\n"
   ]
  },
  {
   "cell_type": "code",
   "execution_count": 59,
   "metadata": {},
   "outputs": [
    {
     "name": "stdout",
     "output_type": "stream",
     "text": [
      "20\n"
     ]
    }
   ],
   "source": [
    "num_a = 10 # integer\n",
    "num_b = '10' # string\n",
    "\n",
    "num_c = int(num_b) + num_a\n",
    "print(num_c)"
   ]
  },
  {
   "cell_type": "code",
   "execution_count": 61,
   "metadata": {},
   "outputs": [
    {
     "ename": "ValueError",
     "evalue": "invalid literal for int() with base 10: 'Chi3cago'",
     "output_type": "error",
     "traceback": [
      "\u001b[1;31m---------------------------------------------------------------------------\u001b[0m",
      "\u001b[1;31mValueError\u001b[0m                                Traceback (most recent call last)",
      "Cell \u001b[1;32mIn[61], line 3\u001b[0m\n\u001b[0;32m      1\u001b[0m city \u001b[38;5;241m=\u001b[39m \u001b[38;5;124m'\u001b[39m\u001b[38;5;124mChi3cago\u001b[39m\u001b[38;5;124m'\u001b[39m\n\u001b[1;32m----> 3\u001b[0m city_int \u001b[38;5;241m=\u001b[39m \u001b[38;5;28;43mint\u001b[39;49m\u001b[43m(\u001b[49m\u001b[43mcity\u001b[49m\u001b[43m)\u001b[49m\n",
      "\u001b[1;31mValueError\u001b[0m: invalid literal for int() with base 10: 'Chi3cago'"
     ]
    }
   ],
   "source": [
    "city = 'Chicago'\n",
    "\n",
    "city_int = int(city)\n"
   ]
  },
  {
   "cell_type": "code",
   "execution_count": 62,
   "metadata": {},
   "outputs": [
    {
     "name": "stdout",
     "output_type": "stream",
     "text": [
      "3.14\n",
      "<class 'float'>\n"
     ]
    }
   ],
   "source": [
    "pi = '3.14'\n",
    "\n",
    "f_pi = float(pi)\n",
    "\n",
    "print(f_pi)\n",
    "print(type(f_pi))"
   ]
  },
  {
   "cell_type": "code",
   "execution_count": 63,
   "metadata": {},
   "outputs": [
    {
     "name": "stdout",
     "output_type": "stream",
     "text": [
      "10 <class 'int'>\n",
      "10 <class 'str'>\n"
     ]
    }
   ],
   "source": [
    "print(num_a, type(num_a))\n",
    "\n",
    "num_a_as_str = str(num_a)\n",
    "\n",
    "print(num_a_as_str, type(num_a_as_str))"
   ]
  },
  {
   "cell_type": "markdown",
   "metadata": {},
   "source": [
    "##### .format() and f-strings"
   ]
  },
  {
   "cell_type": "code",
   "execution_count": 66,
   "metadata": {
    "scrolled": false
   },
   "outputs": [
    {
     "name": "stdout",
     "output_type": "stream",
     "text": [
      "Help on method_descriptor:\n",
      "\n",
      "format(...)\n",
      "    S.format(*args, **kwargs) -> str\n",
      "\n",
      "    Return a formatted version of S, using substitutions from args and kwargs.\n",
      "    The substitutions are identified by braces ('{' and '}').\n",
      "\n"
     ]
    }
   ],
   "source": [
    "help(str.format)"
   ]
  },
  {
   "cell_type": "code",
   "execution_count": 67,
   "metadata": {},
   "outputs": [
    {
     "name": "stdout",
     "output_type": "stream",
     "text": [
      "Hello, my name is Tom Brady and I am 47 years old and I am from San Francisco\n"
     ]
    }
   ],
   "source": [
    "first_name = 'Tom'\n",
    "last_name = 'Brady'\n",
    "city = 'San Francisco'\n",
    "age = 47\n",
    "\n",
    "\n",
    "intro_text = \"Hello, my name is {} {} and I am {} years old and I am from {}\".format(first_name, last_name, age, city)\n",
    "\n",
    "print(intro_text)\n"
   ]
  },
  {
   "cell_type": "code",
   "execution_count": 68,
   "metadata": {},
   "outputs": [
    {
     "name": "stdout",
     "output_type": "stream",
     "text": [
      "Hello, my name is Tom Brady and I am 47 years old and I am from San Francisco\n"
     ]
    }
   ],
   "source": [
    "# f-string - another way of formatting a string -> uses curly braces with a variable name in them\n",
    "# and a lowercase f before the string (f'') or (f\"\")\n",
    "\n",
    "intro_text2 = f\"Hello, my name is {first_name} {last_name} and I am {age} years old and I am from {city}\"\n",
    "\n",
    "print(intro_text2)"
   ]
  },
  {
   "cell_type": "code",
   "execution_count": 72,
   "metadata": {},
   "outputs": [
    {
     "name": "stdout",
     "output_type": "stream",
     "text": [
      "Hello, I am TOM and in 5 years I will be 52\n",
      "Hello, I am TOM and in 5 years I will be 52\n"
     ]
    }
   ],
   "source": [
    "# .format and f-string allows us to run expression for format our string\n",
    "\n",
    "add_age1 = f'Hello, I am {first_name.upper()} and in 5 years I will be {age + 5}'\n",
    "\n",
    "print(add_age1)\n",
    "\n",
    "add_age2 = \"Hello, I am {} and in 5 years I will be {}\".format(first_name.upper(), age + 5)\n",
    "\n",
    "print(add_age2)\n"
   ]
  },
  {
   "cell_type": "markdown",
   "metadata": {},
   "source": [
    "##### Old Way (python 2)"
   ]
  },
  {
   "cell_type": "code",
   "execution_count": 73,
   "metadata": {},
   "outputs": [
    {
     "name": "stdout",
     "output_type": "stream",
     "text": [
      "Hello my name is Tom and I am from San Francisco\n"
     ]
    }
   ],
   "source": [
    "print(\"Hello my name is %s and I am from %s\" % (first_name, city))"
   ]
  },
  {
   "cell_type": "code",
   "execution_count": 75,
   "metadata": {
    "scrolled": true
   },
   "outputs": [
    {
     "name": "stdout",
     "output_type": "stream",
     "text": [
      "The result is 15\n"
     ]
    }
   ],
   "source": [
    "result = 10 + 5\n",
    "\n",
    "print(\"The result is %i\" % result)"
   ]
  },
  {
   "cell_type": "markdown",
   "metadata": {},
   "source": [
    "# In-Class Exercise 1 <br>\n",
    "<p>Increase the year by 1 and then print out the following statement using type conversion and a formatted string</p>"
   ]
  },
  {
   "cell_type": "code",
   "execution_count": 83,
   "metadata": {},
   "outputs": [
    {
     "name": "stdout",
     "output_type": "stream",
     "text": [
      "I drive a blue 2023 Ford Focus.\n"
     ]
    }
   ],
   "source": [
    "#OUTPUT:  I drive a blue 2023 Ford Focus.\n",
    "color = 'blue'\n",
    "make = 'Ford'\n",
    "year = '2022'\n",
    "model = 'Focus'\n",
    "\n",
    "year_int = int(year)\n",
    "\n",
    "# year_int += 1 \n",
    "\n",
    "result = f\"I drive a {color} {int(year) + 1} {make} {model}.\"\n",
    "\n",
    "print(result)"
   ]
  },
  {
   "cell_type": "code",
   "execution_count": 85,
   "metadata": {},
   "outputs": [
    {
     "name": "stdout",
     "output_type": "stream",
     "text": [
      "I drive a blue 2023 Ford Focus\n"
     ]
    }
   ],
   "source": [
    "my_car2 = \"I drive a {} {} {} {}\".format(color, int(year) + 1, make, model)\n",
    "\n",
    "print(my_car2)"
   ]
  },
  {
   "cell_type": "markdown",
   "metadata": {},
   "source": [
    "### Booleans"
   ]
  },
  {
   "cell_type": "code",
   "execution_count": 86,
   "metadata": {},
   "outputs": [
    {
     "name": "stdout",
     "output_type": "stream",
     "text": [
      "True\n",
      "<class 'bool'>\n"
     ]
    }
   ],
   "source": [
    "bool_true = True\n",
    "print(bool_true)\n",
    "print(type(bool_true))"
   ]
  },
  {
   "cell_type": "code",
   "execution_count": 87,
   "metadata": {},
   "outputs": [
    {
     "name": "stdout",
     "output_type": "stream",
     "text": [
      "False\n",
      "<class 'bool'>\n"
     ]
    }
   ],
   "source": [
    "bool_false = False\n",
    "print(bool_false)\n",
    "print(type(bool_false))"
   ]
  },
  {
   "cell_type": "markdown",
   "metadata": {},
   "source": [
    "### If Statements"
   ]
  },
  {
   "cell_type": "code",
   "execution_count": 88,
   "metadata": {},
   "outputs": [
    {
     "name": "stdout",
     "output_type": "stream",
     "text": [
      "Hello this is a statment that is being run because the If evaluated to True\n"
     ]
    }
   ],
   "source": [
    "# if <expression>:   <expression> must result in a boolean (True or False) or object with (Truthy/Falsy) value\n",
    "#     <statement>\n",
    "\n",
    "# INDENTATION MATTERS!!!!!!\n",
    "# All lines that are indented under the if statement will only run if the expression is True\n",
    "\n",
    "if True:\n",
    "    print('Hello this is a statment that is being run because the If evaluated to True')"
   ]
  },
  {
   "cell_type": "code",
   "execution_count": 90,
   "metadata": {},
   "outputs": [],
   "source": [
    "if False:\n",
    "    print('Hello this is a statment that is being run because the If evaluated to True')"
   ]
  },
  {
   "cell_type": "code",
   "execution_count": 95,
   "metadata": {},
   "outputs": [
    {
     "name": "stdout",
     "output_type": "stream",
     "text": [
      "Start code...\n",
      "End code...\n"
     ]
    }
   ],
   "source": [
    "print('Start code...')\n",
    "\n",
    "if False:\n",
    "    print('Hello')\n",
    "    print('How are you?')\n",
    "\n",
    "print('End code...')"
   ]
  },
  {
   "cell_type": "code",
   "execution_count": 104,
   "metadata": {},
   "outputs": [
    {
     "name": "stdout",
     "output_type": "stream",
     "text": [
      "True\n",
      "False\n",
      "True\n",
      "True\n",
      "True\n",
      "False\n"
     ]
    }
   ],
   "source": [
    "# Available operators: Greater(>), Less(<), Equal(==)\n",
    "# Greater or Equal(>=), Less or Equal (<=), Not Equal (!=)\n",
    "# Return value is a Boolean (True or False)\n",
    "\n",
    "num1 = 10\n",
    "num2 = 5\n",
    "num3 = 2\n",
    "\n",
    "print(num1 > num2)\n",
    "print(num2 < num3)\n",
    "print(num1 == num2 * num3)\n",
    "print(num1>= num2 * num3)\n",
    "print(num1 <= num2 * num3)\n",
    "print(num1 != num2 * num3)"
   ]
  },
  {
   "cell_type": "code",
   "execution_count": 108,
   "metadata": {},
   "outputs": [
    {
     "name": "stdout",
     "output_type": "stream",
     "text": [
      "10 is greater than 5\n",
      "10 is greater than or equal to 5 times 2\n"
     ]
    }
   ],
   "source": [
    "if num1 > num2:\n",
    "    print(f\"{num1} is greater than {num2}\")\n",
    "\n",
    "if num2 < num3:\n",
    "    print(f\"{num2} is less than {num3}\")\n",
    "\n",
    "if num1 >= num2 * num3:\n",
    "    print(f\"{num1} is greater than or equal to {num2} times {num3}\")"
   ]
  },
  {
   "cell_type": "markdown",
   "metadata": {},
   "source": [
    "## Using 'and'/'or' with If Statements"
   ]
  },
  {
   "cell_type": "code",
   "execution_count": 113,
   "metadata": {},
   "outputs": [
    {
     "name": "stdout",
     "output_type": "stream",
     "text": [
      "Student meets requirements. Move on to next round...\n"
     ]
    }
   ],
   "source": [
    "# Truth Tree for OR:\n",
    "# T or T = T\n",
    "# T or F = T\n",
    "# F or T = T\n",
    "# F or F = F\n",
    "\n",
    "# To pass through to the next round, a students needs at least a 2.5 GPA or at least a 25 ACT\n",
    "\n",
    "potential_candidate_gpa = 3.0\n",
    "potential_candidate_act = 20\n",
    "\n",
    "# logic for passing a student\n",
    "if potential_candidate_gpa >= 2.5 or potential_candidate_act >= 25:\n",
    "    print('Student meets requirements. Move on to next round...')\n",
    "\n",
    "else:\n",
    "    print('Reject student...')\n"
   ]
  },
  {
   "cell_type": "code",
   "execution_count": 116,
   "metadata": {},
   "outputs": [
    {
     "name": "stdout",
     "output_type": "stream",
     "text": [
      "Reject student...\n"
     ]
    }
   ],
   "source": [
    "# Truth Tree for AND:\n",
    "# T and T = T\n",
    "# T and F = F\n",
    "# F and T = F\n",
    "# F and F = F\n",
    "\n",
    "# To pass through to the next round, a students needs at least a 2.5 GPA AND at least a 25 ACT\n",
    "\n",
    "potential_candidate_gpa = 3.0\n",
    "potential_candidate_act = 20\n",
    "\n",
    "# logic for passing a student\n",
    "if potential_candidate_gpa >= 2.5 and potential_candidate_act >= 25:\n",
    "    print('Student meets requirements. Move on to next round...')\n",
    "\n",
    "else:\n",
    "    print('Reject student...')\n"
   ]
  },
  {
   "cell_type": "code",
   "execution_count": 3,
   "metadata": {},
   "outputs": [
    {
     "name": "stdout",
     "output_type": "stream",
     "text": [
      "Not 1 or 7, the number is 5\n"
     ]
    }
   ],
   "source": [
    "number = 5\n",
    "\n",
    "if number == 1 or number == 7:\n",
    "    print('The number is 1 or 7')\n",
    "else:\n",
    "    print(f\"Not 1 or 7, the number is {number}\")"
   ]
  },
  {
   "cell_type": "code",
   "execution_count": null,
   "metadata": {},
   "outputs": [],
   "source": [
    "number = 10\n",
    "\n",
    "if number:\n",
    "    print('This was true')"
   ]
  },
  {
   "cell_type": "markdown",
   "metadata": {},
   "source": [
    "### Else Statements"
   ]
  },
  {
   "cell_type": "code",
   "execution_count": 4,
   "metadata": {},
   "outputs": [
    {
     "name": "stdout",
     "output_type": "stream",
     "text": [
      "You are eligible to run for president\n",
      "You are eligible to vote\n"
     ]
    }
   ],
   "source": [
    "# An else statement runs when the if statement DIRECLTY above it evaluates to False\n",
    "\n",
    "age = 44\n",
    "\n",
    "if age >= 35:\n",
    "    print('You are eligible to run for president')\n",
    "\n",
    "if age >= 18:\n",
    "    print('You are eligible to vote')\n",
    "else:\n",
    "    print('You are still too young to vote')\n",
    "\n"
   ]
  },
  {
   "cell_type": "markdown",
   "metadata": {},
   "source": [
    "### Elif Statements"
   ]
  },
  {
   "cell_type": "code",
   "execution_count": 2,
   "metadata": {},
   "outputs": [
    {
     "name": "stdout",
     "output_type": "stream",
     "text": [
      "Cool, enjoy the movie with the folks!\n"
     ]
    }
   ],
   "source": [
    "# An elif only runs when the if (or elif) directly above it evaluates to False\n",
    "\n",
    "# Pretend we are checking tickets at the movie theater for an R-Rated movie\n",
    "# If the movie goer is above 18, just say thanks and enjoy the show\n",
    "# if the movie goer is above 14, check if they have a parent with them, can see if so\n",
    "# no movie goers under 14 or under 18 without parent\n",
    "\n",
    "\n",
    "# rules for entry\n",
    "required_age = 18\n",
    "with_parent_age = 14\n",
    "\n",
    "# Customer Info\n",
    "customer_age = 16\n",
    "has_parent = True\n",
    "\n",
    "if customer_age >= required_age:\n",
    "    print('Thanks and enjoy the show!')\n",
    "elif customer_age >= with_parent_age and has_parent:\n",
    "    print('Cool, enjoy the movie with the folks!')\n",
    "elif customer_age >= with_parent_age and not has_parent:\n",
    "    print('You are old enough to see this with a parent, but I do not see one here...')\n",
    "else:\n",
    "    print('You cannot see this film until you are older.')"
   ]
  },
  {
   "cell_type": "code",
   "execution_count": 8,
   "metadata": {},
   "outputs": [
    {
     "name": "stdout",
     "output_type": "stream",
     "text": [
      "Drink whiskey!\n"
     ]
    }
   ],
   "source": [
    "age = 70\n",
    "\n",
    "if age < 18:\n",
    "    drink_choice = 'toddy'\n",
    "elif age < 21:\n",
    "    drink_choice = 'coke'\n",
    "elif age < 50:\n",
    "    drink_choice = 'beer'\n",
    "else:\n",
    "    drink_choice = 'whiskey'\n",
    "\n",
    "print(f\"Drink {drink_choice}!\")"
   ]
  },
  {
   "cell_type": "markdown",
   "metadata": {},
   "source": [
    "### In-Class Exercise 2 <br>\n",
    "<p>Write a program that will check a person's age and adjust the ticket price. Regular ticket price is $10. Seniors (65+) get 25 percent off and children (ages 0-9) are half off. Print out the ticket price at the end</p>"
   ]
  },
  {
   "cell_type": "code",
   "execution_count": 19,
   "metadata": {},
   "outputs": [
    {
     "name": "stdout",
     "output_type": "stream",
     "text": [
      "Your ticket is $7.50\n"
     ]
    }
   ],
   "source": [
    "\n",
    "ticket = 10\n",
    "# person_age = 72 # Output: Your ticket is $7.50\n",
    "# person_age = 47 # Output: Your ticket is $10\n",
    "# person_age = 8 # Output: Your ticket is $5.00\n",
    "\n",
    "if person_age <= 9:\n",
    "    print(f\"Your ticket is ${ticket*.75:.2f}\")\n",
    "elif person_age < 65:\n",
    "    print(f\"Your ticket is ${ticket: .2f}\")\n",
    "else:\n",
    "    print(f\"Your ticket is ${ticket*.5:.2f}\")\n",
    "\n"
   ]
  },
  {
   "cell_type": "code",
   "execution_count": null,
   "metadata": {},
   "outputs": [],
   "source": []
  },
  {
   "cell_type": "markdown",
   "metadata": {},
   "source": [
    "### Lists"
   ]
  },
  {
   "cell_type": "markdown",
   "metadata": {},
   "source": [
    "##### Declaring Lists"
   ]
  },
  {
   "cell_type": "code",
   "execution_count": 20,
   "metadata": {},
   "outputs": [
    {
     "name": "stdout",
     "output_type": "stream",
     "text": [
      "[]\n",
      "<class 'list'>\n"
     ]
    }
   ],
   "source": [
    "# Ordered collection of data; indexable; mutable; iterable; elements of the list can be of any data type\n",
    "\n",
    "list1 = [] # Empty list declation\n",
    "\n",
    "print(list1)\n",
    "print(type(list1))"
   ]
  },
  {
   "cell_type": "code",
   "execution_count": 21,
   "metadata": {},
   "outputs": [
    {
     "name": "stdout",
     "output_type": "stream",
     "text": [
      "['Dan', 'Catherine', 'William', 'Laura', 'Hannah', 'Jack', 'Frank']\n",
      "<class 'list'>\n"
     ]
    }
   ],
   "source": [
    "names = ['Dan', 'Catherine', 'William', 'Laura', 'Hannah', 'Jack', 'Frank']\n",
    "\n",
    "print(names)\n",
    "print(type(names))"
   ]
  },
  {
   "cell_type": "markdown",
   "metadata": {},
   "source": [
    "##### Indexing a List"
   ]
  },
  {
   "cell_type": "code",
   "execution_count": 34,
   "metadata": {},
   "outputs": [
    {
     "name": "stdout",
     "output_type": "stream",
     "text": [
      "Frank\n",
      "Dan\n",
      "['Catherine', 'William', 'Laura', 'Hannah', 'Jack', 'Frank']\n",
      "['Catherine', 'William', 'Laura', 'Hannah']\n",
      "['Dan', 'Catherine', 'William', 'Laura']\n",
      "['Dan', 'Catherine', 'William', 'Laura', 'Hannah', 'Jack', 'Frank']\n",
      "['Dan', 'William', 'Hannah', 'Frank']\n",
      "['Frank', 'Jack', 'Hannah', 'Laura', 'William', 'Catherine', 'Dan']\n",
      "['Catherine', 'Laura', 'Jack']\n"
     ]
    }
   ],
   "source": [
    "# list_var[start: stop: step] - start is INclusive, stop is EXclusive\n",
    "# 0-based index (indices will always start at 0 -> length of list - 1)\n",
    "# Makes a copy, original list is unaffected\n",
    "\n",
    "# single element - list_var[index]\n",
    "print(names[6])\n",
    "\n",
    "# Negative number start from the back of the list\n",
    "print(names[-7])\n",
    "\n",
    "# Slicing a list -> grabbing part of the list\n",
    "\n",
    "# Slice the list from the 2nd element to the end (leave the stop empty will default to end of list)\n",
    "print(names[1:])\n",
    "\n",
    "#Slice the list from the 2nd element to the 5th element (start at index 1 and go up to but not including index 5)\n",
    "print(names[1:5])\n",
    "\n",
    "# Slice from the beginning of the list to the 4th element (leave the start empty will default to start of list)\n",
    "print(names[:4])\n",
    "\n",
    "# Slice the whole list - an easy way to make a copy of the list\n",
    "print(names[:])\n",
    "\n",
    "# Slice every other element in the list\n",
    "print(names[::2])\n",
    "\n",
    "# Negative steps will go backwards through a list - an easy way to make a reversed copy of the list\n",
    "print(names[::-1])\n",
    "\n",
    "# Combo Time!\n",
    "print(names[1:6:2])"
   ]
  },
  {
   "cell_type": "code",
   "execution_count": 38,
   "metadata": {},
   "outputs": [
    {
     "name": "stdout",
     "output_type": "stream",
     "text": [
      "['Dan', 'Catherine', 'Billy', 'Laura', 'Hannah', 'Jack', 'Frank']\n",
      "['Dan', 'Catherine', 'Billy', 'Laura', 'Hannah', 'Jack', 'Frank']\n"
     ]
    }
   ],
   "source": [
    "# List are mutable - means you can change the values using item assignment\n",
    "# item assignment - list_var[index] = value\n",
    "\n",
    "print(names)\n",
    "\n",
    "names[2] = 'Billy'\n",
    "\n",
    "print(names)\n"
   ]
  },
  {
   "cell_type": "code",
   "execution_count": 40,
   "metadata": {},
   "outputs": [
    {
     "name": "stdout",
     "output_type": "stream",
     "text": [
      "Hello \n"
     ]
    },
    {
     "ename": "TypeError",
     "evalue": "'str' object does not support item assignment",
     "output_type": "error",
     "traceback": [
      "\u001b[1;31m---------------------------------------------------------------------------\u001b[0m",
      "\u001b[1;31mTypeError\u001b[0m                                 Traceback (most recent call last)",
      "Cell \u001b[1;32mIn[40], line 7\u001b[0m\n\u001b[0;32m      3\u001b[0m my_string \u001b[38;5;241m=\u001b[39m \u001b[38;5;124m\"\u001b[39m\u001b[38;5;124mHello World\u001b[39m\u001b[38;5;124m\"\u001b[39m\n\u001b[0;32m      5\u001b[0m \u001b[38;5;28mprint\u001b[39m(my_string[\u001b[38;5;241m0\u001b[39m:\u001b[38;5;241m6\u001b[39m])\n\u001b[1;32m----> 7\u001b[0m \u001b[43mmy_string\u001b[49m\u001b[43m[\u001b[49m\u001b[38;5;241;43m0\u001b[39;49m\u001b[43m]\u001b[49m \u001b[38;5;241m=\u001b[39m \u001b[38;5;124m\"\u001b[39m\u001b[38;5;124mJ\u001b[39m\u001b[38;5;124m\"\u001b[39m\n\u001b[0;32m      8\u001b[0m \u001b[38;5;28mprint\u001b[39m(my_string)\n",
      "\u001b[1;31mTypeError\u001b[0m: 'str' object does not support item assignment"
     ]
    }
   ],
   "source": [
    "# Strings are IMMUTABLE - can NOT be changed through item assignment\n",
    "# But they are indexable\n",
    "my_string = \"Hello World\"\n",
    "\n",
    "print(my_string[0:6])\n",
    "\n",
    "my_string[0] = \"J\"\n",
    "print(my_string)\n"
   ]
  },
  {
   "cell_type": "markdown",
   "metadata": {},
   "source": [
    "##### .append()"
   ]
  },
  {
   "cell_type": "code",
   "execution_count": 42,
   "metadata": {},
   "outputs": [
    {
     "name": "stdout",
     "output_type": "stream",
     "text": [
      "['Dan', 'Catherine', 'Billy', 'Laura', 'Hannah', 'Jack', 'Frank']\n",
      "['Dan', 'Catherine', 'Billy', 'Laura', 'Hannah', 'Jack', 'Frank', 'Sarah']\n"
     ]
    }
   ],
   "source": [
    "# list_var.append(value) -> Add the value to the end of the list\n",
    "\n",
    "print(names)\n",
    "\n",
    "names.append('Sarah')\n",
    "\n",
    "print(names)"
   ]
  },
  {
   "cell_type": "markdown",
   "metadata": {},
   "source": [
    "##### .insert()"
   ]
  },
  {
   "cell_type": "code",
   "execution_count": 44,
   "metadata": {},
   "outputs": [
    {
     "name": "stdout",
     "output_type": "stream",
     "text": [
      "['Dan', 'Catherine', 'Billy', 'Laura', 'Hannah', 'Jack', 'Frank', 'Sarah']\n",
      "['Dan', 'Catherine', 'Julian', 'Billy', 'Laura', 'Hannah', 'Jack', 'Frank', 'Sarah']\n"
     ]
    }
   ],
   "source": [
    "# list_var.insert(index,value) -> Add the value at index and shift everything after to the right 1 index\n",
    "\n",
    "print(names)\n",
    "\n",
    "names.insert(2, 'Julian')\n",
    "\n",
    "print(names)"
   ]
  },
  {
   "cell_type": "markdown",
   "metadata": {},
   "source": [
    "##### .pop()"
   ]
  },
  {
   "cell_type": "code",
   "execution_count": 48,
   "metadata": {},
   "outputs": [
    {
     "name": "stdout",
     "output_type": "stream",
     "text": [
      "['Dan', 'Catherine', 'Julian', 'Billy', 'Laura', 'Hannah', 'Jack', 'Frank', 'Sarah']\n",
      "['Dan', 'Catherine', 'Julian', 'Billy', 'Laura', 'Hannah', 'Jack', 'Frank']\n",
      "The last element that was removed: Sarah\n"
     ]
    }
   ],
   "source": [
    "# list_var.pop() -> If no argument, pop removes and returns the last element of the list\n",
    "\n",
    "print(names)\n",
    "\n",
    "last_element = names.pop()\n",
    "\n",
    "print(names)\n",
    "print(f\"The last element that was removed: {last_element}\")"
   ]
  },
  {
   "cell_type": "code",
   "execution_count": 49,
   "metadata": {},
   "outputs": [
    {
     "name": "stdout",
     "output_type": "stream",
     "text": [
      "['Dan', 'Julian', 'Billy', 'Laura', 'Hannah', 'Jack', 'Frank']\n",
      "The second element: Catherine\n"
     ]
    }
   ],
   "source": [
    "# list_var.pop(index) -> will remove the element at index and return that item\n",
    "second_element = names.pop(1)\n",
    "\n",
    "print(names)\n",
    "\n",
    "print(f\"The second element: {second_element}\")"
   ]
  },
  {
   "cell_type": "markdown",
   "metadata": {},
   "source": [
    "\n",
    "##### .remove()"
   ]
  },
  {
   "cell_type": "code",
   "execution_count": 50,
   "metadata": {},
   "outputs": [
    {
     "name": "stdout",
     "output_type": "stream",
     "text": [
      "['Dan', 'Julian', 'Laura', 'Hannah', 'Jack', 'Frank']\n"
     ]
    }
   ],
   "source": [
    "# value to be removed , not index\n",
    "# list_var.remove(value) -> will remove the FIRST instance of that value\n",
    "\n",
    "names.remove('Billy')\n",
    "print(names)"
   ]
  },
  {
   "cell_type": "code",
   "execution_count": 52,
   "metadata": {},
   "outputs": [
    {
     "name": "stdout",
     "output_type": "stream",
     "text": [
      "['hi', 'hi', 'hello', 'hola', 'goodbye', 'hello']\n"
     ]
    }
   ],
   "source": [
    "random_list = ['hi', 'hello', 'hi', 'hello', 'hola', 'goodbye', 'hello']\n",
    "\n",
    "random_list.remove('hello')\n",
    "\n",
    "print(random_list)"
   ]
  },
  {
   "cell_type": "markdown",
   "metadata": {},
   "source": [
    "##### del"
   ]
  },
  {
   "cell_type": "code",
   "execution_count": 54,
   "metadata": {},
   "outputs": [
    {
     "name": "stdout",
     "output_type": "stream",
     "text": [
      "['Dan', 'Julian', 'Laura', 'Hannah', 'Jack', 'Frank']\n",
      "['Dan', 'Julian', 'Hannah', 'Jack', 'Frank']\n"
     ]
    }
   ],
   "source": [
    "# del list_var[index]\n",
    "# index to be removed, not value\n",
    "# BE CAREFUL with del, can cause indexing errors if not used carefully\n",
    "\n",
    "print(names)\n",
    "\n",
    "del names[2]\n",
    "\n",
    "print(names)"
   ]
  },
  {
   "cell_type": "code",
   "execution_count": 55,
   "metadata": {},
   "outputs": [
    {
     "ename": "IndexError",
     "evalue": "list assignment index out of range",
     "output_type": "error",
     "traceback": [
      "\u001b[1;31m---------------------------------------------------------------------------\u001b[0m",
      "\u001b[1;31mIndexError\u001b[0m                                Traceback (most recent call last)",
      "Cell \u001b[1;32mIn[55], line 3\u001b[0m\n\u001b[0;32m      1\u001b[0m \u001b[38;5;66;03m# Can cause index errors if not careful\u001b[39;00m\n\u001b[1;32m----> 3\u001b[0m \u001b[38;5;28;01mdel\u001b[39;00m \u001b[43mnames\u001b[49m\u001b[43m[\u001b[49m\u001b[38;5;241;43m5\u001b[39;49m\u001b[43m]\u001b[49m\n",
      "\u001b[1;31mIndexError\u001b[0m: list assignment index out of range"
     ]
    }
   ],
   "source": [
    "# Can cause index errors if not careful\n",
    "\n",
    "del names[5]"
   ]
  },
  {
   "cell_type": "markdown",
   "metadata": {},
   "source": [
    "##### Concatenating Two Lists"
   ]
  },
  {
   "cell_type": "code",
   "execution_count": 56,
   "metadata": {},
   "outputs": [
    {
     "name": "stdout",
     "output_type": "stream",
     "text": [
      "[1, 2, 3, 4, 5, 6, 7, 8]\n"
     ]
    }
   ],
   "source": [
    "# plus operator (+) between two lists will append two lists together, not add up the elements in each list\n",
    "\n",
    "list_a = [1, 2, 3, 4]\n",
    "list_b = [5, 6, 7, 8]\n",
    "\n",
    "list_c = list_a + list_b\n",
    "\n",
    "print(list_c)"
   ]
  },
  {
   "cell_type": "markdown",
   "metadata": {},
   "source": [
    "##### Lists can hold any datatype"
   ]
  },
  {
   "cell_type": "code",
   "execution_count": null,
   "metadata": {},
   "outputs": [],
   "source": [
    "# lists can hold any dataype\n",
    "# It is *recommended* to only store one datatype in a list\n",
    "list_of_strings = [\"a\",'b','c','d']\n",
    "list_of_ints = [1,2,3,4]\n",
    "list_of_floats = [1.23, 4.56, 7.89]\n",
    "list_of_bools = [True, False, False, True]\n",
    "list_of_all = ['a', 1, 1.23, False]"
   ]
  },
  {
   "cell_type": "markdown",
   "metadata": {},
   "source": [
    "##### Lists Within Lists"
   ]
  },
  {
   "cell_type": "code",
   "execution_count": 57,
   "metadata": {},
   "outputs": [
    {
     "name": "stdout",
     "output_type": "stream",
     "text": [
      "[[1, 2, 3], [4, 5, 6], [7, 8, 9]]\n"
     ]
    }
   ],
   "source": [
    "# Lists are able to hold any type of element, including OTHER lists themsevles\n",
    "# they can also go as deep as you want, having many lists nested inside of each other\n",
    "list_of_lists = [[1, 2, 3], [4,5,6], [7,8,9]]\n",
    "\n",
    "print(list_of_lists)"
   ]
  },
  {
   "cell_type": "code",
   "execution_count": 58,
   "metadata": {},
   "outputs": [
    {
     "name": "stdout",
     "output_type": "stream",
     "text": [
      "<class 'list'> [1, 2, 3]\n",
      "<class 'list'> [4, 5, 6]\n",
      "<class 'list'> [7, 8, 9]\n"
     ]
    }
   ],
   "source": [
    "for element in list_of_lists:\n",
    "    print(type(element),element)"
   ]
  },
  {
   "cell_type": "code",
   "execution_count": 59,
   "metadata": {},
   "outputs": [
    {
     "name": "stdout",
     "output_type": "stream",
     "text": [
      "7\n"
     ]
    }
   ],
   "source": [
    "print(list_of_lists[2][0])"
   ]
  },
  {
   "cell_type": "markdown",
   "metadata": {},
   "source": [
    "### For Loops"
   ]
  },
  {
   "cell_type": "code",
   "execution_count": 60,
   "metadata": {},
   "outputs": [
    {
     "name": "stdout",
     "output_type": "stream",
     "text": [
      "Begin loop...\n",
      "5\n",
      "10\n",
      "15\n",
      "20\n",
      "25\n",
      "30\n",
      "End loop...\n"
     ]
    }
   ],
   "source": [
    "# for <keyword> in <iterable>:\n",
    "#     <statement>\n",
    "\n",
    "nums = [5, 10, 15, 20, 25, 30]\n",
    "\n",
    "print(\"Begin loop...\")\n",
    "\n",
    "for num in nums:\n",
    "    print(num)\n",
    "\n",
    "print('End loop...')"
   ]
  },
  {
   "cell_type": "code",
   "execution_count": 63,
   "metadata": {},
   "outputs": [
    {
     "name": "stdout",
     "output_type": "stream",
     "text": [
      "My favorite color is red\n",
      "My favorite color is orange\n",
      "My favorite color is yellow\n",
      "My favorite color is green\n",
      "My favorite color is blue\n",
      "My favorite color is indigo\n",
      "My favorite color is violet\n"
     ]
    }
   ],
   "source": [
    "colors = ['red', 'orange', 'yellow', 'green', 'blue', 'indigo', 'violet']\n",
    "\n",
    "for color in colors:\n",
    "    print(f\"My favorite color is {color}\")"
   ]
  },
  {
   "cell_type": "code",
   "execution_count": 65,
   "metadata": {},
   "outputs": [
    {
     "name": "stdout",
     "output_type": "stream",
     "text": [
      "red\n",
      "Hello world\n",
      "orange\n",
      "Hello world\n",
      "yellow\n",
      "Hello world\n",
      "green\n",
      "Hello world\n",
      "blue\n",
      "Hello world\n",
      "indigo\n",
      "Hello world\n",
      "violet\n",
      "Hello world\n"
     ]
    }
   ],
   "source": [
    "# Indentation Matters!\n",
    "# Anything indented under the for loop is part of the loop\n",
    "\n",
    "for color in colors:\n",
    "    print(color)\n",
    "    print(\"Hello world\")"
   ]
  },
  {
   "cell_type": "code",
   "execution_count": 66,
   "metadata": {},
   "outputs": [
    {
     "name": "stdout",
     "output_type": "stream",
     "text": [
      "red\n",
      "orange\n",
      "yellow\n",
      "green\n",
      "blue\n",
      "indigo\n",
      "violet\n",
      "Hello world\n"
     ]
    }
   ],
   "source": [
    "# Anything lined up with the for loop will run AFTER the loop has finished\n",
    "for color in colors:\n",
    "    print(color)\n",
    "print(\"Hello world\")"
   ]
  },
  {
   "cell_type": "code",
   "execution_count": 67,
   "metadata": {},
   "outputs": [
    {
     "name": "stdout",
     "output_type": "stream",
     "text": [
      "I hate the color red\n",
      "I love the color orange\n",
      "I love the color yellow\n",
      "I love the color green\n",
      "I love the color blue\n",
      "I love the color indigo\n",
      "I love the color violet\n"
     ]
    }
   ],
   "source": [
    "for color in colors:\n",
    "    if color == 'red':\n",
    "        print(f\"I hate the color {color}\")\n",
    "    else:\n",
    "        print(f\"I love the color {color}\")"
   ]
  },
  {
   "cell_type": "code",
   "execution_count": 68,
   "metadata": {},
   "outputs": [
    {
     "name": "stdout",
     "output_type": "stream",
     "text": [
      "H\n",
      "e\n",
      "l\n",
      "l\n",
      "o\n",
      " \n",
      "h\n",
      "o\n",
      "w\n",
      " \n",
      "a\n",
      "r\n",
      "e\n",
      " \n",
      "y\n",
      "o\n",
      "u\n",
      " \n",
      "d\n",
      "o\n",
      "i\n",
      "n\n",
      "g\n",
      "?\n"
     ]
    }
   ],
   "source": [
    "# Strings are iterable\n",
    "my_string = \"Hello how are you doing?\"\n",
    "\n",
    "for char in my_string:\n",
    "    print(char)"
   ]
  },
  {
   "cell_type": "markdown",
   "metadata": {},
   "source": [
    "##### Continue Statement"
   ]
  },
  {
   "cell_type": "code",
   "execution_count": 69,
   "metadata": {},
   "outputs": [],
   "source": [
    "list_to_use = [10, 20, 30, 40, 50, 60, 70, 80, 90, 100]"
   ]
  },
  {
   "cell_type": "code",
   "execution_count": 70,
   "metadata": {},
   "outputs": [
    {
     "name": "stdout",
     "output_type": "stream",
     "text": [
      "10\n",
      "1.0\n",
      "The value of th eelement is 10\n",
      "20\n",
      "2.0\n",
      "The value of th eelement is 20\n",
      "30\n",
      "3.0\n",
      "The value of th eelement is 30\n",
      "40\n",
      "4.0\n",
      "The value of th eelement is 40\n",
      "60\n",
      "6.0\n",
      "The value of th eelement is 60\n",
      "70\n",
      "7.0\n",
      "The value of th eelement is 70\n",
      "80\n",
      "8.0\n",
      "The value of th eelement is 80\n",
      "90\n",
      "9.0\n",
      "The value of th eelement is 90\n",
      "100\n",
      "10.0\n",
      "The value of th eelement is 100\n"
     ]
    }
   ],
   "source": [
    "# will continue to next iteration\n",
    "# skip all code after it in the code block and go to the next item in the iterable\n",
    "\n",
    "for number in list_to_use:\n",
    "    if number == 50:\n",
    "        continue # Don't do anything more in this loop, go to the next element in the iterable\n",
    "    print(number)\n",
    "    print(number/10)\n",
    "    print(f\"The value of the eelement is {number}\")\n"
   ]
  },
  {
   "cell_type": "markdown",
   "metadata": {},
   "source": [
    "##### Break Statement"
   ]
  },
  {
   "cell_type": "code",
   "execution_count": 71,
   "metadata": {},
   "outputs": [
    {
     "name": "stdout",
     "output_type": "stream",
     "text": [
      "10\n",
      "1.0\n",
      "The value of the element is 10\n",
      "20\n",
      "2.0\n",
      "The value of the element is 20\n",
      "30\n",
      "3.0\n",
      "The value of the element is 30\n",
      "40\n",
      "4.0\n",
      "The value of the element is 40\n",
      "The loop has finished...\n"
     ]
    }
   ],
   "source": [
    "# will break out of current loop\n",
    "\n",
    "for number in list_to_use:\n",
    "    if number == 50:\n",
    "        break # end the loop completely\n",
    "    print(number)\n",
    "    print(number/10)\n",
    "    print(f\"The value of the element is {number}\")\n",
    "    \n",
    "print('The loop has finished...')"
   ]
  },
  {
   "cell_type": "markdown",
   "metadata": {},
   "source": [
    "##### Pass Statement"
   ]
  },
  {
   "cell_type": "code",
   "execution_count": null,
   "metadata": {},
   "outputs": [],
   "source": [
    "# mostly used as a placeholder, and will continue on same iteration"
   ]
  },
  {
   "cell_type": "code",
   "execution_count": 73,
   "metadata": {
    "scrolled": true
   },
   "outputs": [
    {
     "name": "stdout",
     "output_type": "stream",
     "text": [
      "10\n",
      "1.0\n",
      "The value of the element is 10\n",
      "20\n",
      "2.0\n",
      "The value of the element is 20\n",
      "30\n",
      "3.0\n",
      "The value of the element is 30\n",
      "40\n",
      "4.0\n",
      "The value of the element is 40\n",
      "50\n",
      "5.0\n",
      "The value of the element is 50\n",
      "60\n",
      "6.0\n",
      "The value of the element is 60\n",
      "70\n",
      "7.0\n",
      "The value of the element is 70\n",
      "80\n",
      "8.0\n",
      "The value of the element is 80\n",
      "90\n",
      "9.0\n",
      "The value of the element is 90\n",
      "100\n",
      "10.0\n",
      "The value of the element is 100\n",
      "The loop has finished...\n"
     ]
    }
   ],
   "source": [
    "for number in list_to_use:\n",
    "    if number == 50:\n",
    "        pass # aka do absolutely nothing \n",
    "    print(number)\n",
    "    print(number/10)\n",
    "    print(f\"The value of the element is {number}\")\n",
    "    \n",
    "print('The loop has finished...')"
   ]
  },
  {
   "cell_type": "code",
   "execution_count": 74,
   "metadata": {},
   "outputs": [],
   "source": [
    "def solution():\n",
    "    pass"
   ]
  },
  {
   "cell_type": "markdown",
   "metadata": {},
   "source": [
    "##### Nested/Double For Loops"
   ]
  },
  {
   "cell_type": "code",
   "execution_count": 79,
   "metadata": {},
   "outputs": [
    {
     "name": "stdout",
     "output_type": "stream",
     "text": [
      "1\n",
      "2\n",
      "1\n",
      "2\n"
     ]
    }
   ],
   "source": [
    "a_list = [1, 2,]\n",
    "\n",
    "for num1 in a_list:\n",
    "    print(num1)\n",
    "\n",
    "for num2 in a_list:\n",
    "    print(num2)"
   ]
  },
  {
   "cell_type": "code",
   "execution_count": 80,
   "metadata": {},
   "outputs": [
    {
     "name": "stdout",
     "output_type": "stream",
     "text": [
      "1 1\n",
      "1 2\n",
      "2 1\n",
      "2 2\n"
     ]
    }
   ],
   "source": [
    "for num1 in a_list:\n",
    "    for num2 in a_list:\n",
    "        print(num1, num2)"
   ]
  },
  {
   "cell_type": "markdown",
   "metadata": {},
   "source": [
    "### While Loops"
   ]
  },
  {
   "cell_type": "code",
   "execution_count": 81,
   "metadata": {},
   "outputs": [
    {
     "name": "stdout",
     "output_type": "stream",
     "text": [
      "0\n",
      "1\n",
      "2\n",
      "3\n",
      "4\n",
      "5\n",
      "6\n",
      "7\n",
      "8\n",
      "9\n"
     ]
    }
   ],
   "source": [
    "x = 0\n",
    "\n",
    "while x < 10:\n",
    "    print(x)\n",
    "    x += 1"
   ]
  },
  {
   "cell_type": "code",
   "execution_count": 84,
   "metadata": {},
   "outputs": [],
   "source": [
    "# while <conditional>:\n",
    "#     <statement to run while condition is true>\n",
    "\n",
    "from random import randint\n",
    "\n"
   ]
  },
  {
   "cell_type": "code",
   "execution_count": 86,
   "metadata": {},
   "outputs": [
    {
     "name": "stdout",
     "output_type": "stream",
     "text": [
      "The starting random number: 2\n",
      "2\n",
      "2\n",
      "4\n",
      "2\n",
      "8\n",
      "7\n",
      "The final result: 5\n"
     ]
    }
   ],
   "source": [
    "random_number = randint(1, 10)\n",
    "print(f\"The starting random number: {random_number}\")\n",
    "\n",
    "while random_number != 5:\n",
    "    print(random_number)\n",
    "    random_number = randint(1,10)\n",
    "\n",
    "print('The final result:', random_number)"
   ]
  },
  {
   "cell_type": "markdown",
   "metadata": {},
   "source": [
    "##### Looping 'While True'"
   ]
  },
  {
   "cell_type": "code",
   "execution_count": 88,
   "metadata": {},
   "outputs": [
    {
     "name": "stdout",
     "output_type": "stream",
     "text": [
      "You should have looked left!\n",
      "Looking to the left\n"
     ]
    }
   ],
   "source": [
    "while True:\n",
    "    ask = input('What would you like to do? ')\n",
    "    if ask == \"quit\":\n",
    "        break\n",
    "    elif ask == 'look left':\n",
    "        print('Looking to the left')\n",
    "    else:\n",
    "        print('You should have looked left!')\n",
    "\n"
   ]
  },
  {
   "cell_type": "markdown",
   "metadata": {},
   "source": [
    "### Built-In Functions"
   ]
  },
  {
   "cell_type": "markdown",
   "metadata": {},
   "source": [
    "##### input()"
   ]
  },
  {
   "cell_type": "code",
   "execution_count": 89,
   "metadata": {},
   "outputs": [
    {
     "name": "stdout",
     "output_type": "stream",
     "text": [
      "hello\n"
     ]
    }
   ],
   "source": [
    "# input(question) => ALWAYS RETURNS A STRING\n",
    "\n",
    "x = input('Enter something:')\n",
    "\n",
    "print(x)"
   ]
  },
  {
   "cell_type": "code",
   "execution_count": 90,
   "metadata": {},
   "outputs": [
    {
     "name": "stdout",
     "output_type": "stream",
     "text": [
      "1 <class 'str'>\n"
     ]
    }
   ],
   "source": [
    "siblings = input('How many siblings do you have? ')\n",
    "\n",
    "print(siblings, type(siblings))"
   ]
  },
  {
   "cell_type": "markdown",
   "metadata": {},
   "source": [
    "##### range()"
   ]
  },
  {
   "cell_type": "code",
   "execution_count": 1,
   "metadata": {},
   "outputs": [
    {
     "name": "stdout",
     "output_type": "stream",
     "text": [
      "0\n",
      "1\n",
      "2\n",
      "3\n",
      "4\n",
      "5\n",
      "6\n",
      "7\n",
      "8\n",
      "9\n"
     ]
    }
   ],
   "source": [
    "#Start, Stop, Step\n",
    "\n",
    "for x in range(10):\n",
    "    print(x)"
   ]
  },
  {
   "cell_type": "code",
   "execution_count": 2,
   "metadata": {},
   "outputs": [
    {
     "name": "stdout",
     "output_type": "stream",
     "text": [
      "10\n",
      "11\n",
      "12\n",
      "13\n",
      "14\n",
      "15\n",
      "16\n",
      "17\n",
      "18\n",
      "19\n"
     ]
    }
   ],
   "source": [
    "for y in range(10, 20):\n",
    "    print(y)"
   ]
  },
  {
   "cell_type": "code",
   "execution_count": 3,
   "metadata": {},
   "outputs": [
    {
     "name": "stdout",
     "output_type": "stream",
     "text": [
      "20\n",
      "25\n",
      "30\n",
      "35\n",
      "40\n",
      "45\n"
     ]
    }
   ],
   "source": [
    "for z in range(20, 50, 5):\n",
    "    print(z)"
   ]
  },
  {
   "cell_type": "markdown",
   "metadata": {},
   "source": [
    "##### len()"
   ]
  },
  {
   "cell_type": "code",
   "execution_count": 4,
   "metadata": {},
   "outputs": [
    {
     "name": "stdout",
     "output_type": "stream",
     "text": [
      "5\n"
     ]
    }
   ],
   "source": [
    "# check Length of variable\n",
    "states = ['Illinoi', 'Indiana', 'Iowa', 'Wisconsin', 'Minnesota']\n",
    "\n",
    "print(len(states))"
   ]
  },
  {
   "cell_type": "code",
   "execution_count": 5,
   "metadata": {},
   "outputs": [
    {
     "name": "stdout",
     "output_type": "stream",
     "text": [
      "12\n"
     ]
    }
   ],
   "source": [
    "full_name = 'Dillon Dains'\n",
    "\n",
    "print(len(full_name))"
   ]
  },
  {
   "cell_type": "markdown",
   "metadata": {},
   "source": [
    "##### help()"
   ]
  },
  {
   "cell_type": "code",
   "execution_count": 7,
   "metadata": {
    "scrolled": true
   },
   "outputs": [
    {
     "name": "stdout",
     "output_type": "stream",
     "text": [
      "Help on class list in module builtins:\n",
      "\n",
      "class list(object)\n",
      " |  list(iterable=(), /)\n",
      " |\n",
      " |  Built-in mutable sequence.\n",
      " |\n",
      " |  If no argument is given, the constructor creates a new empty list.\n",
      " |  The argument must be an iterable if specified.\n",
      " |\n",
      " |  Methods defined here:\n",
      " |\n",
      " |  __add__(self, value, /)\n",
      " |      Return self+value.\n",
      " |\n",
      " |  __contains__(self, key, /)\n",
      " |      Return bool(key in self).\n",
      " |\n",
      " |  __delitem__(self, key, /)\n",
      " |      Delete self[key].\n",
      " |\n",
      " |  __eq__(self, value, /)\n",
      " |      Return self==value.\n",
      " |\n",
      " |  __ge__(self, value, /)\n",
      " |      Return self>=value.\n",
      " |\n",
      " |  __getattribute__(self, name, /)\n",
      " |      Return getattr(self, name).\n",
      " |\n",
      " |  __getitem__(self, index, /)\n",
      " |      Return self[index].\n",
      " |\n",
      " |  __gt__(self, value, /)\n",
      " |      Return self>value.\n",
      " |\n",
      " |  __iadd__(self, value, /)\n",
      " |      Implement self+=value.\n",
      " |\n",
      " |  __imul__(self, value, /)\n",
      " |      Implement self*=value.\n",
      " |\n",
      " |  __init__(self, /, *args, **kwargs)\n",
      " |      Initialize self.  See help(type(self)) for accurate signature.\n",
      " |\n",
      " |  __iter__(self, /)\n",
      " |      Implement iter(self).\n",
      " |\n",
      " |  __le__(self, value, /)\n",
      " |      Return self<=value.\n",
      " |\n",
      " |  __len__(self, /)\n",
      " |      Return len(self).\n",
      " |\n",
      " |  __lt__(self, value, /)\n",
      " |      Return self<value.\n",
      " |\n",
      " |  __mul__(self, value, /)\n",
      " |      Return self*value.\n",
      " |\n",
      " |  __ne__(self, value, /)\n",
      " |      Return self!=value.\n",
      " |\n",
      " |  __repr__(self, /)\n",
      " |      Return repr(self).\n",
      " |\n",
      " |  __reversed__(self, /)\n",
      " |      Return a reverse iterator over the list.\n",
      " |\n",
      " |  __rmul__(self, value, /)\n",
      " |      Return value*self.\n",
      " |\n",
      " |  __setitem__(self, key, value, /)\n",
      " |      Set self[key] to value.\n",
      " |\n",
      " |  __sizeof__(self, /)\n",
      " |      Return the size of the list in memory, in bytes.\n",
      " |\n",
      " |  append(self, object, /)\n",
      " |      Append object to the end of the list.\n",
      " |\n",
      " |  clear(self, /)\n",
      " |      Remove all items from list.\n",
      " |\n",
      " |  copy(self, /)\n",
      " |      Return a shallow copy of the list.\n",
      " |\n",
      " |  count(self, value, /)\n",
      " |      Return number of occurrences of value.\n",
      " |\n",
      " |  extend(self, iterable, /)\n",
      " |      Extend list by appending elements from the iterable.\n",
      " |\n",
      " |  index(self, value, start=0, stop=9223372036854775807, /)\n",
      " |      Return first index of value.\n",
      " |\n",
      " |      Raises ValueError if the value is not present.\n",
      " |\n",
      " |  insert(self, index, object, /)\n",
      " |      Insert object before index.\n",
      " |\n",
      " |  pop(self, index=-1, /)\n",
      " |      Remove and return item at index (default last).\n",
      " |\n",
      " |      Raises IndexError if list is empty or index is out of range.\n",
      " |\n",
      " |  remove(self, value, /)\n",
      " |      Remove first occurrence of value.\n",
      " |\n",
      " |      Raises ValueError if the value is not present.\n",
      " |\n",
      " |  reverse(self, /)\n",
      " |      Reverse *IN PLACE*.\n",
      " |\n",
      " |  sort(self, /, *, key=None, reverse=False)\n",
      " |      Sort the list in ascending order and return None.\n",
      " |\n",
      " |      The sort is in-place (i.e. the list itself is modified) and stable (i.e. the\n",
      " |      order of two equal elements is maintained).\n",
      " |\n",
      " |      If a key function is given, apply it once to each list item and sort them,\n",
      " |      ascending or descending, according to their function values.\n",
      " |\n",
      " |      The reverse flag can be set to sort in descending order.\n",
      " |\n",
      " |  ----------------------------------------------------------------------\n",
      " |  Class methods defined here:\n",
      " |\n",
      " |  __class_getitem__(...) from builtins.type\n",
      " |      See PEP 585\n",
      " |\n",
      " |  ----------------------------------------------------------------------\n",
      " |  Static methods defined here:\n",
      " |\n",
      " |  __new__(*args, **kwargs) from builtins.type\n",
      " |      Create and return a new object.  See help(type) for accurate signature.\n",
      " |\n",
      " |  ----------------------------------------------------------------------\n",
      " |  Data and other attributes defined here:\n",
      " |\n",
      " |  __hash__ = None\n",
      "\n"
     ]
    }
   ],
   "source": [
    "help(list)"
   ]
  },
  {
   "cell_type": "markdown",
   "metadata": {},
   "source": [
    "##### isinstance()"
   ]
  },
  {
   "cell_type": "code",
   "execution_count": 8,
   "metadata": {},
   "outputs": [
    {
     "data": {
      "text/plain": [
       "True"
      ]
     },
     "execution_count": 8,
     "metadata": {},
     "output_type": "execute_result"
    }
   ],
   "source": [
    "# Check a variable to find out what Object family it belongs to\n",
    "# isinstace(var, type)\n",
    "age = '55'\n",
    "\n",
    "isinstance(age, str)"
   ]
  },
  {
   "cell_type": "code",
   "execution_count": 9,
   "metadata": {},
   "outputs": [
    {
     "data": {
      "text/plain": [
       "False"
      ]
     },
     "execution_count": 9,
     "metadata": {},
     "output_type": "execute_result"
    }
   ],
   "source": [
    "isinstance(age, int)"
   ]
  },
  {
   "cell_type": "markdown",
   "metadata": {},
   "source": [
    "##### Looping Through Lists"
   ]
  },
  {
   "cell_type": "code",
   "execution_count": null,
   "metadata": {},
   "outputs": [],
   "source": [
    "# two ways to loop through a list, using range for index and in for values\n",
    "\n",
    "# Loop with a for loop (By Index)\n",
    "\n",
    "    \n",
    "# Loop with a for loop (Using the 'in' keyword)\n",
    "\n"
   ]
  },
  {
   "cell_type": "markdown",
   "metadata": {},
   "source": [
    "## Exercise #1 <br>\n",
    "<p>Cube Number Test... Print out all cubed numbers up to the total value 1000. Meaning that if the cubed number is over 1000 break the loop.</p>"
   ]
  },
  {
   "cell_type": "code",
   "execution_count": 10,
   "metadata": {},
   "outputs": [
    {
     "name": "stdout",
     "output_type": "stream",
     "text": [
      "0\n",
      "1\n",
      "8\n",
      "27\n",
      "64\n",
      "125\n",
      "216\n",
      "343\n",
      "512\n",
      "729\n",
      "1000\n"
     ]
    }
   ],
   "source": [
    "n = 0\n",
    "result = 0\n",
    "\n",
    "while result < 1000:\n",
    "    result = n ** 3\n",
    "    print(result)\n",
    "    n += 1\n"
   ]
  },
  {
   "cell_type": "markdown",
   "metadata": {},
   "source": [
    "## Exercise #2 <br>\n",
    "<p>Get first prime numbers up to 100</p>"
   ]
  },
  {
   "cell_type": "code",
   "execution_count": 42,
   "metadata": {
    "scrolled": false
   },
   "outputs": [],
   "source": [
    "# HINT::\n",
    "# An else after an if runs if the if didn’t\n",
    "# An else after a for runs if the for didn’t break\n",
    "\n",
    "\n",
    "\n",
    "# Prime number - A number that is divisible by only 1 and itself\n"
   ]
  },
  {
   "cell_type": "code",
   "execution_count": 55,
   "metadata": {},
   "outputs": [
    {
     "name": "stdout",
     "output_type": "stream",
     "text": [
      "2\n",
      "3\n",
      "5\n",
      "7\n",
      "11\n",
      "13\n",
      "17\n",
      "19\n",
      "23\n",
      "29\n",
      "31\n",
      "37\n",
      "41\n",
      "43\n",
      "47\n",
      "53\n",
      "59\n",
      "61\n",
      "67\n",
      "71\n",
      "73\n",
      "79\n",
      "83\n",
      "89\n",
      "97\n"
     ]
    }
   ],
   "source": [
    "n= 2\n",
    "\n",
    "for result in range(2, 101):\n",
    "    if result <= n:\n",
    "        print(result)\n",
    "    else:\n",
    "        while result != n:\n",
    "            if result % n != 0:\n",
    "                n += 1\n",
    "                if result == n:\n",
    "                    print(result)\n",
    "                    n = 2\n",
    "                    break         \n",
    "            else:\n",
    "                n = 2\n",
    "                break\n",
    "\n",
    "\n"
   ]
  },
  {
   "cell_type": "code",
   "execution_count": null,
   "metadata": {},
   "outputs": [],
   "source": []
  },
  {
   "cell_type": "markdown",
   "metadata": {},
   "source": [
    "# Exercise 3 <br>\n",
    "<p>Take in a users input for their age, if they are younger than 18 print kids, if they're 18 to 65 print adults, else print seniors</p>"
   ]
  },
  {
   "cell_type": "code",
   "execution_count": 46,
   "metadata": {},
   "outputs": [
    {
     "name": "stdout",
     "output_type": "stream",
     "text": [
      "You are a senior\n"
     ]
    }
   ],
   "source": [
    "age = input('How old are you in whole numbers?')\n",
    "\n",
    "age_int = int(age)\n",
    "\n",
    "if age_int < 18:\n",
    "    print(\"You are a kid\")\n",
    "elif age_int > 65:\n",
    "    print('You are a senior')\n",
    "else:\n",
    "    print('Your are an adult')\n"
   ]
  },
  {
   "cell_type": "code",
   "execution_count": null,
   "metadata": {},
   "outputs": [],
   "source": []
  },
  {
   "cell_type": "code",
   "execution_count": null,
   "metadata": {},
   "outputs": [],
   "source": []
  }
 ],
 "metadata": {
  "kernelspec": {
   "display_name": "Python 3 (ipykernel)",
   "language": "python",
   "name": "python3"
  },
  "language_info": {
   "codemirror_mode": {
    "name": "ipython",
    "version": 3
   },
   "file_extension": ".py",
   "mimetype": "text/x-python",
   "name": "python",
   "nbconvert_exporter": "python",
   "pygments_lexer": "ipython3",
   "version": "3.12.1"
  }
 },
 "nbformat": 4,
 "nbformat_minor": 2
}
